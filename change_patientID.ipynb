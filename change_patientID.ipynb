{
 "cells": [
  {
   "cell_type": "code",
   "execution_count": 2,
   "id": "322f1a2f-1030-494f-a14f-b316ee7bebca",
   "metadata": {},
   "outputs": [
    {
     "name": "stdout",
     "output_type": "stream",
     "text": [
      "Collecting pydicom\n",
      "  Downloading pydicom-2.4.3-py3-none-any.whl (1.8 MB)\n",
      "Installing collected packages: pydicom\n",
      "Successfully installed pydicom-2.4.3\n"
     ]
    }
   ],
   "source": [
    "!pip install pydicom"
   ]
  },
  {
   "cell_type": "code",
   "execution_count": 5,
   "id": "1ee5b03f-87d0-4c43-ac42-6bc859436999",
   "metadata": {},
   "outputs": [],
   "source": [
    "import os\n",
    "import glob\n",
    "from pydicom import dcmread\n",
    "\n",
    "# 시작과 끝 폴더 번호\n",
    "start_folder_num = 85\n",
    "end_folder_num = 102\n",
    "\n",
    "# 시작과 끝 patient ID\n",
    "start_patient_id = 1\n",
    "end_patient_id = 18\n",
    "\n",
    "# 원본 폴더 경로\n",
    "source_folder_path = \"\\\\\\\\147.47.203.148\\\\LeeStorage2\\\\EPhysRawData\\\\fmri_ocat_analysis\\\\O-CAT_fMRIdata_backup\\\\brain_raw\"\n",
    "\n",
    "# 대상 폴더 경로\n",
    "target_folder_path = \"\\\\\\\\147.47.203.148\\\\LeeStorage2\\\\EPhysRawData\\\\fmri_ocat_analysis\\\\brain_raw_strt1\"\n",
    "\n",
    "# 폴더 번호와 patient ID를 매핑\n",
    "folder_patient_map = {f\"SUB{i:02}\": f\"sub-{j:02}\" for i, j in zip(range(start_folder_num, end_folder_num+1), range(start_patient_id, end_patient_id+1))}\n",
    "\n",
    "# 모든 폴더에 대해\n",
    "for old_folder, new_patient_id in folder_patient_map.items():\n",
    "    # 원본 폴더 경로\n",
    "    old_folder_path = os.path.join(source_folder_path, old_folder)\n",
    "\n",
    "    # 대상 폴더 경로\n",
    "    new_folder_path = os.path.join(target_folder_path, new_patient_id)\n",
    "\n",
    "    # 폴더 내의 모든 하위 폴더에 대해\n",
    "    for dirpath, dirnames, filenames in os.walk(old_folder_path):\n",
    "        # 각 파일에 대해\n",
    "        for filename in filenames:\n",
    "            # 파일이 .IMA 파일인 경우\n",
    "            if filename.endswith(\".IMA\"):\n",
    "                # DICOM 파일 읽기\n",
    "                ds = dcmread(os.path.join(dirpath, filename))\n",
    "\n",
    "                # (0010,0020) 'Patient ID' 요소 수정\n",
    "                ds.PatientID = new_patient_id\n",
    "\n",
    "                # 파일 이름의 일부 수정\n",
    "                new_filename = filename.replace(old_folder, new_patient_id)\n",
    "\n",
    "                # 수정된 DICOM 파일 저장\n",
    "                new_dirpath = dirpath.replace(old_folder_path, new_folder_path)\n",
    "                os.makedirs(new_dirpath, exist_ok=True)\n",
    "                ds.save_as(os.path.join(new_dirpath, new_filename))\n",
    "                "
   ]
  },
  {
   "cell_type": "code",
   "execution_count": 7,
   "id": "002e0810-3078-4ab7-87dd-11824ea1362b",
   "metadata": {},
   "outputs": [],
   "source": [
    "import os\n",
    "import glob\n",
    "from pydicom import dcmread\n",
    "\n",
    "# 폴더 번호와 patient ID를 직접 매핑\n",
    "folder_patient_map = {\"1020\": \"sub-19\", \"20\": \"sub-20\"}\n",
    "\n",
    "# 원본 폴더 경로\n",
    "source_folder_path = \"\\\\\\\\147.47.203.148\\\\LeeStorage2\\\\EPhysRawData\\\\fmri_ocat_analysis\\\\brain_raw\"\n",
    "\n",
    "# 대상 폴더 경로\n",
    "target_folder_path = \"\\\\\\\\147.47.203.148\\\\LeeStorage2\\\\EPhysRawData\\\\fmri_ocat_analysis\\\\brain_raw_strt1\"\n",
    "\n",
    "# 모든 폴더에 대해\n",
    "for old_folder, new_patient_id in folder_patient_map.items():\n",
    "    # 원본 폴더 경로\n",
    "    old_folder_path = os.path.join(source_folder_path, old_folder)\n",
    "\n",
    "    # 대상 폴더 경로\n",
    "    new_folder_path = os.path.join(target_folder_path, new_patient_id)\n",
    "\n",
    "    # 폴더 내의 모든 하위 폴더에 대해\n",
    "    for dirpath, dirnames, filenames in os.walk(old_folder_path):\n",
    "        # 각 파일에 대해\n",
    "        for filename in filenames:\n",
    "            # 파일이 .IMA 파일인 경우\n",
    "            if filename.endswith(\".IMA\"):\n",
    "                # DICOM 파일 읽기\n",
    "                ds = dcmread(os.path.join(dirpath, filename))\n",
    "\n",
    "                # (0010,0020) 'Patient ID' 요소 수정\n",
    "                ds.PatientID = new_patient_id\n",
    "\n",
    "                # 파일 이름의 일부 수정\n",
    "                new_filename = filename.replace(old_folder, new_patient_id)\n",
    "\n",
    "                # 수정된 DICOM 파일 저장\n",
    "                new_dirpath = dirpath.replace(old_folder_path, new_folder_path)\n",
    "                os.makedirs(new_dirpath, exist_ok=True)\n",
    "                ds.save_as(os.path.join(new_dirpath, new_filename))\n"
   ]
  },
  {
   "cell_type": "code",
   "execution_count": null,
   "id": "cb4cdf96-e68e-492a-8d5c-89eaba8086ae",
   "metadata": {},
   "outputs": [],
   "source": []
  }
 ],
 "metadata": {
  "kernelspec": {
   "display_name": "Python 3 (ipykernel)",
   "language": "python",
   "name": "python3"
  },
  "language_info": {
   "codemirror_mode": {
    "name": "ipython",
    "version": 3
   },
   "file_extension": ".py",
   "mimetype": "text/x-python",
   "name": "python",
   "nbconvert_exporter": "python",
   "pygments_lexer": "ipython3",
   "version": "3.9.7"
  }
 },
 "nbformat": 4,
 "nbformat_minor": 5
}
